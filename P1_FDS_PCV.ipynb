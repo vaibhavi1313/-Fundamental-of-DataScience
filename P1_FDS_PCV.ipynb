{
 "cells": [
  {
   "cell_type": "markdown",
   "metadata": {},
   "source": [
    "# Combinatorics: Permutations, Variations & Combinations"
   ]
  },
  {
   "cell_type": "markdown",
   "metadata": {},
   "source": [
    "Consider the following example. We have a box with some balls inside (each with a different color) and we want to compute the number of ways we can arrange those balls. We can do so with two different approaches: with repetition (each ball is reinserted into the box after it is picked) or without repetition.\n",
    "\n",
    "With Repetition: the idea is that, after each ball extracted, we can pick it again as many times as we want. Let’s have an easy start and consider the box={g,b}, where g=’green ball’ and b=’blue ball’: well, in that case, the possible ways we can arrange those balls are ‘gg’, ‘bg’, ‘gb’, ‘bb’. We can also compute it with Python:\n",
    "\n",
    "If we want to generalize, when we have n objects and we want to see in how many ways we can arrange them, we have:\n",
    "\n",
    "        n*n*n*.............*n= n^n "
   ]
  },
  {
   "cell_type": "code",
   "execution_count": 13,
   "metadata": {},
   "outputs": [
    {
     "data": {
      "text/plain": [
       "[('g', 'g'), ('g', 'b'), ('b', 'g'), ('b', 'b')]"
      ]
     },
     "execution_count": 13,
     "metadata": {},
     "output_type": "execute_result"
    }
   ],
   "source": [
    "# import itertools\n",
    "from itertools import product\n",
    "box_1=['g','b']\n",
    "perm=[]\n",
    "for p in itertools.product(box_1, repeat=2):\n",
    "     perm.append(p)\n",
    "\n",
    "perm"
   ]
  },
  {
   "cell_type": "markdown",
   "metadata": {},
   "source": [
    "Let’s do the same with 3 balls instead:\n",
    "\n"
   ]
  },
  {
   "cell_type": "code",
   "execution_count": 2,
   "metadata": {
    "scrolled": false
   },
   "outputs": [
    {
     "data": {
      "text/plain": [
       "[('g', 'g', 'g'),\n",
       " ('g', 'g', 'b'),\n",
       " ('g', 'g', 'y'),\n",
       " ('g', 'b', 'g'),\n",
       " ('g', 'b', 'b'),\n",
       " ('g', 'b', 'y'),\n",
       " ('g', 'y', 'g'),\n",
       " ('g', 'y', 'b'),\n",
       " ('g', 'y', 'y'),\n",
       " ('b', 'g', 'g'),\n",
       " ('b', 'g', 'b'),\n",
       " ('b', 'g', 'y'),\n",
       " ('b', 'b', 'g'),\n",
       " ('b', 'b', 'b'),\n",
       " ('b', 'b', 'y'),\n",
       " ('b', 'y', 'g'),\n",
       " ('b', 'y', 'b'),\n",
       " ('b', 'y', 'y'),\n",
       " ('y', 'g', 'g'),\n",
       " ('y', 'g', 'b'),\n",
       " ('y', 'g', 'y'),\n",
       " ('y', 'b', 'g'),\n",
       " ('y', 'b', 'b'),\n",
       " ('y', 'b', 'y'),\n",
       " ('y', 'y', 'g'),\n",
       " ('y', 'y', 'b'),\n",
       " ('y', 'y', 'y')]"
      ]
     },
     "execution_count": 2,
     "metadata": {},
     "output_type": "execute_result"
    }
   ],
   "source": [
    "box_2 = ['g','b','y']\n",
    "perm=[]\n",
    "for p in itertools.product(box_2, repeat=3):\n",
    "     perm.append(p)\n",
    "\n",
    "perm"
   ]
  },
  {
   "cell_type": "markdown",
   "metadata": {},
   "source": [
    "\n",
    "Without repetition: in this case, once you picked one ball, it cannot be used anymore. So each arrangement of balls will have unique values. In that case, coming back to our box={g,b}, the two possible permutations are ‘gb’ and ‘bg’:\n",
    "\n",
    "In that case, we have to consider, after each extraction, that the number of available elements is one less. So, if we have n elements in our set, the permutations will be:\n",
    "\n",
    "    1*2*3*...........*n=n!\n",
    "    "
   ]
  },
  {
   "cell_type": "code",
   "execution_count": 3,
   "metadata": {},
   "outputs": [
    {
     "name": "stdout",
     "output_type": "stream",
     "text": [
      "('g', 'b')\n",
      "('b', 'g')\n"
     ]
    }
   ],
   "source": [
    "import itertools \n",
    "  \n",
    "box_1 = ['g','b']\n",
    "perm = itertools.permutations(box_1) \n",
    "  \n",
    "for i in list(perm): \n",
    "    print(i)"
   ]
  },
  {
   "cell_type": "markdown",
   "metadata": {},
   "source": [
    "\n",
    "Again, let’s consider a bigger box ={g,b,y}, where y=’yellow ball’:\n",
    "\n"
   ]
  },
  {
   "cell_type": "code",
   "execution_count": 4,
   "metadata": {},
   "outputs": [
    {
     "name": "stdout",
     "output_type": "stream",
     "text": [
      "('g', 'b', 'y')\n",
      "('g', 'y', 'b')\n",
      "('b', 'g', 'y')\n",
      "('b', 'y', 'g')\n",
      "('y', 'g', 'b')\n",
      "('y', 'b', 'g')\n"
     ]
    }
   ],
   "source": [
    "box_2 = ['g','b','y']\n",
    "perm = itertools.permutations(box_2) \n",
    "\n",
    "for i in list(perm): \n",
    "    print(i)"
   ]
  },
  {
   "cell_type": "markdown",
   "metadata": {},
   "source": [
    "# Variation"
   ]
  },
  {
   "cell_type": "markdown",
   "metadata": {},
   "source": [
    "Variations are nothing but permutations where the number of objects we want to pick is less than the total number of objects n. Let’s simply retrieve the example above and let’s say that, out of three balls, we want to arrange only the first and second positions. Let’s use the box={g,b,y} and let’s start with the case of repetition:\n",
    "\n",
    "With repetition: we want to choose two balls (k=2) out of three (n=3) and compute the number of possible permutations: which can be calculated as:\n",
    "\n",
    "  \n",
    "        V(n,k) =  n*n*........(k times) = n^k"
   ]
  },
  {
   "cell_type": "code",
   "execution_count": 5,
   "metadata": {},
   "outputs": [
    {
     "data": {
      "text/plain": [
       "[('g', 'g'),\n",
       " ('g', 'b'),\n",
       " ('g', 'y'),\n",
       " ('b', 'g'),\n",
       " ('b', 'b'),\n",
       " ('b', 'y'),\n",
       " ('y', 'g'),\n",
       " ('y', 'b'),\n",
       " ('y', 'y')]"
      ]
     },
     "execution_count": 5,
     "metadata": {},
     "output_type": "execute_result"
    }
   ],
   "source": [
    "box_2 = ['g','b','y']\n",
    "perm=[]\n",
    "for p in itertools.product(box_2, repeat=2):\n",
    "     perm.append(p)\n",
    "\n",
    "perm"
   ]
  },
  {
   "cell_type": "markdown",
   "metadata": {},
   "source": [
    "\n",
    "Without repetition: the same reasoning holds if there are no repetitions. Indeed: In that case, we have:\n",
    "\n",
    "      V(n,k) = n!/(n-k)!"
   ]
  },
  {
   "cell_type": "code",
   "execution_count": 6,
   "metadata": {},
   "outputs": [
    {
     "name": "stdout",
     "output_type": "stream",
     "text": [
      "('g', 'b')\n",
      "('g', 'y')\n",
      "('b', 'g')\n",
      "('b', 'y')\n",
      "('y', 'g')\n",
      "('y', 'b')\n"
     ]
    }
   ],
   "source": [
    "box_2 = ['g','b','y']\n",
    "perm = itertools.permutations(box_2,2) \n",
    "  \n",
    "for i in list(perm): \n",
    "    print(i)"
   ]
  },
  {
   "cell_type": "markdown",
   "metadata": {},
   "source": [
    "# Combinations"
   ]
  },
  {
   "cell_type": "markdown",
   "metadata": {},
   "source": [
    "Combinations are variations (or permutations, if k=n) where the order does not matter. Basically, we use combinations whenever we want to compute in how many ways, from n objects, we can extract k of them, regardless of the order with which those are picked.\n",
    "\n",
    "Namely, if you recall the permutation without repetition we examined at the very beginning, whose outputs were ‘gb’ and ‘bg’, the equivalent combination would be only ‘gb’ (or only ‘bg’), since the order does not matter, hence they represent the same object.\n",
    "\n",
    "Let’s see it with python, always examining separately the two cases of repetition and no repetition:\n",
    "\n",
    "    With repetition:\n",
    "\n",
    "The number of possible combinations (with repetition) is given by:\n",
    "\n",
    "        C(n,k) = (n+k-1)!/k!(n-1)!"
   ]
  },
  {
   "cell_type": "code",
   "execution_count": 7,
   "metadata": {},
   "outputs": [
    {
     "name": "stdout",
     "output_type": "stream",
     "text": [
      "('g', 'g')\n",
      "('g', 'b')\n",
      "('b', 'b')\n"
     ]
    }
   ],
   "source": [
    "from itertools import combinations_with_replacement \n",
    "\n",
    "box_1=['g','b']\n",
    "comb = combinations_with_replacement(box_1, 2) \n",
    "  \n",
    "\n",
    "for i in list(comb): \n",
    "    print(i)"
   ]
  },
  {
   "cell_type": "markdown",
   "metadata": {},
   "source": [
    "\n",
    "The same holds with 3 balls (let’s combine only two of them):\n",
    "\n",
    "\n",
    "\n",
    "\n",
    "\n"
   ]
  },
  {
   "cell_type": "code",
   "execution_count": 8,
   "metadata": {},
   "outputs": [
    {
     "name": "stdout",
     "output_type": "stream",
     "text": [
      "('g', 'g')\n",
      "('g', 'b')\n",
      "('g', 'y')\n",
      "('b', 'b')\n",
      "('b', 'y')\n",
      "('y', 'y')\n"
     ]
    }
   ],
   "source": [
    "from itertools import combinations_with_replacement \n",
    "\n",
    "box_2=['g','b','y']\n",
    "comb = combinations_with_replacement(box_2, 2) \n",
    "  \n",
    "\n",
    "for i in list(comb): \n",
    "    print(i)"
   ]
  },
  {
   "cell_type": "markdown",
   "metadata": {},
   "source": [
    "Without repetition:\n",
    "\n",
    "The number of possible combinations (without repetition) is given by:\n",
    "\n",
    "        C(n,k) = n!/k!(n-k)!"
   ]
  },
  {
   "cell_type": "code",
   "execution_count": 9,
   "metadata": {},
   "outputs": [
    {
     "name": "stdout",
     "output_type": "stream",
     "text": [
      "('g', 'b')\n"
     ]
    }
   ],
   "source": [
    "from itertools import combinations \n",
    "\n",
    "comb = combinations(box_1, 2) \n",
    "   \n",
    "for i in list(comb): \n",
    "    print(i)"
   ]
  },
  {
   "cell_type": "markdown",
   "metadata": {},
   "source": [
    "\n",
    "\n",
    "And with three balls:\n",
    "\n",
    "\n"
   ]
  },
  {
   "cell_type": "code",
   "execution_count": 10,
   "metadata": {},
   "outputs": [
    {
     "name": "stdout",
     "output_type": "stream",
     "text": [
      "('g', 'b')\n",
      "('g', 'y')\n",
      "('b', 'y')\n"
     ]
    }
   ],
   "source": [
    "from itertools import combinations \n",
    "\n",
    "comb = combinations(box_2, 2) \n",
    "   \n",
    "for i in list(comb): \n",
    "    print(i) "
   ]
  }
 ],
 "metadata": {
  "kernelspec": {
   "display_name": "Python 3",
   "language": "python",
   "name": "python3"
  },
  "language_info": {
   "codemirror_mode": {
    "name": "ipython",
    "version": 3
   },
   "file_extension": ".py",
   "mimetype": "text/x-python",
   "name": "python",
   "nbconvert_exporter": "python",
   "pygments_lexer": "ipython3",
   "version": "3.8.5"
  }
 },
 "nbformat": 4,
 "nbformat_minor": 4
}
